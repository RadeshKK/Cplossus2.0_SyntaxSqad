{
 "cells": [
  {
   "cell_type": "code",
   "execution_count": 14,
   "metadata": {},
   "outputs": [
    {
     "name": "stdout",
     "output_type": "stream",
     "text": [
      "              precision    recall  f1-score   support\n",
      "\n",
      "           0       1.00      1.00      1.00       145\n",
      "           1       0.97      1.00      0.99        39\n",
      "           2       1.00      0.94      0.97        16\n",
      "\n",
      "    accuracy                           0.99       200\n",
      "   macro avg       0.99      0.98      0.99       200\n",
      "weighted avg       1.00      0.99      0.99       200\n",
      "\n",
      "✅ Model saved as 'generator_rf_model.pkl'\n"
     ]
    }
   ],
   "source": [
    "import pandas as pd\n",
    "from sklearn.ensemble import RandomForestClassifier\n",
    "from sklearn.model_selection import train_test_split\n",
    "from sklearn.metrics import classification_report\n",
    "import joblib\n",
    "\n",
    "# Step 1: Load the dataset\n",
    "df = pd.read_csv(\"generator_health_dataset.csv\")  # Update path if needed\n",
    "\n",
    "# Step 2: Features (X) and target (y)\n",
    "X = df.drop(\"Status\", axis=1)\n",
    "y = df[\"Status\"]  # Status: 0 = Healthy, 1 = Faulty, 2 = Maintenance (if present)\n",
    "\n",
    "# Step 3: Split the data\n",
    "X_train, X_test, y_train, y_test = train_test_split(X, y, test_size=0.2, random_state=42)\n",
    "\n",
    "# Step 4: Train the Random Forest model\n",
    "model = RandomForestClassifier(n_estimators=100, random_state=42)\n",
    "model.fit(X_train, y_train)\n",
    "\n",
    "# Step 5: Evaluate the model\n",
    "y_pred = model.predict(X_test)\n",
    "print(classification_report(y_test, y_pred))\n",
    "\n",
    "# Step 6: Save the trained model\n",
    "joblib.dump(model, \"generator_rf_model.pkl\")\n",
    "print(\"✅ Model saved as 'generator_rf_model.pkl'\")\n"
   ]
  },
  {
   "cell_type": "code",
   "execution_count": 19,
   "metadata": {},
   "outputs": [
    {
     "name": "stdout",
     "output_type": "stream",
     "text": [
      "Test Case 1: Input = [410.9, 76.53, 50.17, 62.97, 49.62] → Predicted Status: Healthy\n",
      "Test Case 2: Input = [382.58, 129.44, 49.27, 100.0, 79.88] → Predicted Status: Faulty\n",
      "Test Case 3: Input = [442.51, 181.58, 51.43, 100.29, 94.84] → Predicted Status: Maintenance\n"
     ]
    },
    {
     "name": "stderr",
     "output_type": "stream",
     "text": [
      "c:\\Users\\saiki\\AppData\\Local\\Programs\\Python\\Python313\\Lib\\site-packages\\sklearn\\utils\\validation.py:2739: UserWarning: X does not have valid feature names, but RandomForestClassifier was fitted with feature names\n",
      "  warnings.warn(\n",
      "c:\\Users\\saiki\\AppData\\Local\\Programs\\Python\\Python313\\Lib\\site-packages\\sklearn\\utils\\validation.py:2739: UserWarning: X does not have valid feature names, but RandomForestClassifier was fitted with feature names\n",
      "  warnings.warn(\n",
      "c:\\Users\\saiki\\AppData\\Local\\Programs\\Python\\Python313\\Lib\\site-packages\\sklearn\\utils\\validation.py:2739: UserWarning: X does not have valid feature names, but RandomForestClassifier was fitted with feature names\n",
      "  warnings.warn(\n"
     ]
    }
   ],
   "source": [
    "import joblib \n",
    "import numpy as np\n",
    "\n",
    "# Step 1: Load the saved model\n",
    "model = joblib.load(\"generator_rf_model.pkl\")\n",
    "\n",
    "# Step 2: Define test cases (Voltage, Current, Frequency, Load, Temperature)\n",
    "test_cases = [\n",
    "    [410.9,76.53,50.17,62.97,49.62],   \n",
    "    [382.58,129.44,49.27,100.0,79.88],  \n",
    "    [442.51,181.58,51.43,100.29,94.84]   \n",
    "]\n",
    "\n",
    "# Step 3: Status labels\n",
    "status_map = {\n",
    "    0: \"Healthy\",\n",
    "    1: \"Faulty\",\n",
    "    2: \"Maintenance\"\n",
    "}\n",
    "\n",
    "# Step 4: Predict and print results\n",
    "for idx, test_sample in enumerate(test_cases, 1):\n",
    "    sample_array = np.array(test_sample).reshape(1, -1)\n",
    "    prediction = model.predict(sample_array)[0]\n",
    "    status = status_map.get(prediction, \"Unknown\")\n",
    "    print(f\"Test Case {idx}: Input = {test_sample} → Predicted Status: {status}\")\n"
   ]
  },
  {
   "cell_type": "code",
   "execution_count": 20,
   "metadata": {},
   "outputs": [
    {
     "name": "stdout",
     "output_type": "stream",
     "text": [
      "<class 'pandas.core.frame.DataFrame'>\n",
      "RangeIndex: 1000 entries, 0 to 999\n",
      "Data columns (total 5 columns):\n",
      " #   Column       Non-Null Count  Dtype  \n",
      "---  ------       --------------  -----  \n",
      " 0   Vibration    1000 non-null   float64\n",
      " 1   Current      1000 non-null   float64\n",
      " 2   Speed        1000 non-null   float64\n",
      " 3   BeltTension  1000 non-null   float64\n",
      " 4   Status       1000 non-null   int64  \n",
      "dtypes: float64(4), int64(1)\n",
      "memory usage: 39.2 KB\n"
     ]
    },
    {
     "data": {
      "text/plain": [
       "(None,\n",
       "    Vibration  Current  Speed  BeltTension  Status\n",
       " 0       0.67    10.64   1.23       550.53       0\n",
       " 1       1.86    21.09   1.58       350.56       1\n",
       " 2       0.73     7.18   1.35       488.71       0\n",
       " 3       1.77    10.79   1.21       474.23       0\n",
       " 4       0.82     9.42   1.14       592.61       0)"
      ]
     },
     "execution_count": 20,
     "metadata": {},
     "output_type": "execute_result"
    }
   ],
   "source": [
    "import pandas as pd\n",
    "\n",
    "# Load the newly uploaded conveyor belt dataset\n",
    "file_path = \"conveyor_belt_data.csv\"\n",
    "conveyor_df = pd.read_csv(file_path)\n",
    "\n",
    "# Display basic info and the first few rows\n",
    "conveyor_df.info(), conveyor_df.head()\n"
   ]
  },
  {
   "cell_type": "code",
   "execution_count": 21,
   "metadata": {},
   "outputs": [
    {
     "name": "stdout",
     "output_type": "stream",
     "text": [
      "Classification Report:\n",
      "\n",
      "              precision    recall  f1-score   support\n",
      "\n",
      "     Healthy       1.00      1.00      1.00       136\n",
      " Maintenance       1.00      1.00      1.00        43\n",
      "       Fault       1.00      1.00      1.00        21\n",
      "\n",
      "    accuracy                           1.00       200\n",
      "   macro avg       1.00      1.00      1.00       200\n",
      "weighted avg       1.00      1.00      1.00       200\n",
      "\n",
      "Confusion Matrix:\n",
      "\n",
      "[[136   0   0]\n",
      " [  0  43   0]\n",
      " [  0   0  21]]\n"
     ]
    }
   ],
   "source": [
    "import pandas as pd\n",
    "from sklearn.model_selection import train_test_split\n",
    "from sklearn.ensemble import RandomForestClassifier\n",
    "from sklearn.metrics import classification_report, confusion_matrix\n",
    "\n",
    "# Load the dataset\n",
    "df = pd.read_csv(\"conveyor_belt_data.csv\")\n",
    "\n",
    "# Separate features and target\n",
    "X = df.drop(\"Status\", axis=1)\n",
    "y = df[\"Status\"]\n",
    "\n",
    "# Split into training and test sets\n",
    "X_train, X_test, y_train, y_test = train_test_split(\n",
    "    X, y, test_size=0.2, random_state=42\n",
    ")\n",
    "\n",
    "# Create and train the Random Forest model\n",
    "rf_model = RandomForestClassifier(n_estimators=100, random_state=42)\n",
    "rf_model.fit(X_train, y_train)\n",
    "\n",
    "# Make predictions\n",
    "y_pred = rf_model.predict(X_test)\n",
    "\n",
    "# Evaluate the model\n",
    "print(\"Classification Report:\\n\")\n",
    "print(classification_report(y_test, y_pred, target_names=[\"Healthy\", \"Maintenance\", \"Fault\"]))\n",
    "\n",
    "print(\"Confusion Matrix:\\n\")\n",
    "print(confusion_matrix(y_test, y_pred))\n"
   ]
  },
  {
   "cell_type": "code",
   "execution_count": 23,
   "metadata": {},
   "outputs": [
    {
     "data": {
      "text/plain": [
       "['conveyor_belt_model.pkl']"
      ]
     },
     "execution_count": 23,
     "metadata": {},
     "output_type": "execute_result"
    }
   ],
   "source": [
    "import joblib\n",
    "\n",
    "# Save the model to a file\n",
    "joblib.dump(rf_model, \"conveyor_belt_model.pkl\")\n",
    "\n",
    "# To load it later\n",
    "# loaded_model = joblib.load(\"random_forest_model.pkl\")\n"
   ]
  },
  {
   "cell_type": "code",
   "execution_count": 24,
   "metadata": {},
   "outputs": [
    {
     "name": "stdout",
     "output_type": "stream",
     "text": [
      "Predicted Status: Healthy\n"
     ]
    },
    {
     "name": "stderr",
     "output_type": "stream",
     "text": [
      "c:\\Users\\saiki\\AppData\\Local\\Programs\\Python\\Python313\\Lib\\site-packages\\sklearn\\utils\\validation.py:2739: UserWarning: X does not have valid feature names, but RandomForestClassifier was fitted with feature names\n",
      "  warnings.warn(\n"
     ]
    }
   ],
   "source": [
    "import joblib\n",
    "import numpy as np\n",
    "\n",
    "# Load the model\n",
    "model = joblib.load(\"conveyor_belt_model.pkl\")\n",
    "\n",
    "# Define your new sample: [Vibration, Current, Speed, BeltTension]\n",
    "new_sample = np.array([[1.2, 15.5, 1.4, 500.0]])\n",
    "\n",
    "# Predict\n",
    "prediction = model.predict(new_sample)[0]\n",
    "\n",
    "# Map prediction to label\n",
    "class_names = [\"Healthy\", \"Maintenance\", \"Fault\"]\n",
    "predicted_label = class_names[prediction]\n",
    "\n",
    "print(f\"Predicted Status: {predicted_label}\")\n"
   ]
  },
  {
   "cell_type": "code",
   "execution_count": 25,
   "metadata": {},
   "outputs": [
    {
     "name": "stdout",
     "output_type": "stream",
     "text": [
      "Predicted Status: Maintenance\n"
     ]
    },
    {
     "name": "stderr",
     "output_type": "stream",
     "text": [
      "c:\\Users\\saiki\\AppData\\Local\\Programs\\Python\\Python313\\Lib\\site-packages\\sklearn\\utils\\validation.py:2739: UserWarning: X does not have valid feature names, but RandomForestClassifier was fitted with feature names\n",
      "  warnings.warn(\n"
     ]
    }
   ],
   "source": [
    "import joblib\n",
    "import numpy as np\n",
    "\n",
    "# Load the model\n",
    "model = joblib.load(\"conveyor_belt_model.pkl\")\n",
    "\n",
    "# Define your new sample: [Vibration, Current, Speed, BeltTension]\n",
    "new_sample = np.array([[1.86,21.09,1.58,350.56]])\n",
    "\n",
    "# Predict\n",
    "prediction = model.predict(new_sample)[0]\n",
    "\n",
    "# Map prediction to label\n",
    "class_names = [\"Healthy\", \"Maintenance\", \"Fault\"]\n",
    "predicted_label = class_names[prediction]\n",
    "\n",
    "print(f\"Predicted Status: {predicted_label}\")\n"
   ]
  },
  {
   "cell_type": "code",
   "execution_count": 26,
   "metadata": {},
   "outputs": [
    {
     "name": "stdout",
     "output_type": "stream",
     "text": [
      "Predicted Status: Fault\n"
     ]
    },
    {
     "name": "stderr",
     "output_type": "stream",
     "text": [
      "c:\\Users\\saiki\\AppData\\Local\\Programs\\Python\\Python313\\Lib\\site-packages\\sklearn\\utils\\validation.py:2739: UserWarning: X does not have valid feature names, but RandomForestClassifier was fitted with feature names\n",
      "  warnings.warn(\n"
     ]
    }
   ],
   "source": [
    "import joblib\n",
    "import numpy as np\n",
    "\n",
    "# Load the model\n",
    "model = joblib.load(\"conveyor_belt_model.pkl\")\n",
    "\n",
    "# Define your new sample: [Vibration, Current, Speed, BeltTension]\n",
    "new_sample = np.array([[3.09,32.65,1.74,270.22]])\n",
    "\n",
    "# Predict\n",
    "prediction = model.predict(new_sample)[0]\n",
    "\n",
    "# Map prediction to label\n",
    "class_names = [\"Healthy\", \"Maintenance\", \"Fault\"]\n",
    "predicted_label = class_names[prediction]\n",
    "\n",
    "print(f\"Predicted Status: {predicted_label}\")\n"
   ]
  },
  {
   "cell_type": "code",
   "execution_count": 1,
   "metadata": {},
   "outputs": [
    {
     "name": "stdout",
     "output_type": "stream",
     "text": [
      "Accuracy: 1.0\n",
      "\n",
      "Confusion Matrix:\n",
      " [[ 24   0   0]\n",
      " [  0 134   0]\n",
      " [  0   0  42]]\n",
      "\n",
      "Classification Report:\n",
      "               precision    recall  f1-score   support\n",
      "\n",
      "       fault       1.00      1.00      1.00        24\n",
      "     healthy       1.00      1.00      1.00       134\n",
      " maintenance       1.00      1.00      1.00        42\n",
      "\n",
      "    accuracy                           1.00       200\n",
      "   macro avg       1.00      1.00      1.00       200\n",
      "weighted avg       1.00      1.00      1.00       200\n",
      "\n",
      "Model saved as elevator.pkl\n"
     ]
    }
   ],
   "source": [
    "# Step 1: Import libraries\n",
    "import pandas as pd\n",
    "from sklearn.model_selection import train_test_split\n",
    "from sklearn.ensemble import RandomForestClassifier\n",
    "from sklearn.metrics import classification_report, confusion_matrix, accuracy_score\n",
    "import joblib  # For saving the model\n",
    "\n",
    "# Step 2: Load the dataset\n",
    "df = pd.read_csv(\"elevator_machine_data.csv\")\n",
    "\n",
    "# Step 3: Map status codes to labels\n",
    "status_map = {0: 'healthy', 1: 'maintenance', 2: 'fault'}\n",
    "df['Status'] = df['Status'].map(status_map)\n",
    "\n",
    "# Step 4: Split into features and target\n",
    "X = df[['Vibration', 'Current', 'CycleCount']]\n",
    "y = df['Status']\n",
    "\n",
    "# Step 5: Train-test split\n",
    "X_train, X_test, y_train, y_test = train_test_split(\n",
    "    X, y, test_size=0.2, random_state=42\n",
    ")\n",
    "\n",
    "# Step 6: Initialize and train Random Forest model\n",
    "rf_model = RandomForestClassifier(random_state=42)\n",
    "rf_model.fit(X_train, y_train)\n",
    "\n",
    "# Step 7: Make predictions\n",
    "y_pred = rf_model.predict(X_test)\n",
    "\n",
    "# Step 8: Evaluate the model\n",
    "print(\"Accuracy:\", accuracy_score(y_test, y_pred))\n",
    "print(\"\\nConfusion Matrix:\\n\", confusion_matrix(y_test, y_pred))\n",
    "print(\"\\nClassification Report:\\n\", classification_report(y_test, y_pred))\n",
    "\n",
    "# Step 9 (Optional): Save the trained model\n",
    "joblib.dump(rf_model, \"elevator.pkl\")\n",
    "print(\"Model saved as elevator.pkl\")\n"
   ]
  },
  {
   "cell_type": "code",
   "execution_count": 2,
   "metadata": {},
   "outputs": [
    {
     "name": "stdout",
     "output_type": "stream",
     "text": [
      "Sample 1 → Predicted Status: healthy\n",
      "Sample 2 → Predicted Status: fault\n",
      "Sample 3 → Predicted Status: maintenance\n"
     ]
    }
   ],
   "source": [
    "import joblib\n",
    "import pandas as pd\n",
    "\n",
    "# Step 1: Load the trained model\n",
    "model = joblib.load(\"elevator.pkl\")\n",
    "\n",
    "# Step 2: Define new sample data (same features as used in training)\n",
    "# Format: [Vibration, Current, CycleCount]\n",
    "new_data = pd.DataFrame([\n",
    "    [0.85, 22.5, 200],   # example 1\n",
    "    [2.1, 45.0, 600],    # example 2\n",
    "    [1.5, 32.0, 350]     # example 3\n",
    "], columns=['Vibration', 'Current', 'CycleCount'])\n",
    "\n",
    "# Step 3: Make predictions\n",
    "predictions = model.predict(new_data)\n",
    "\n",
    "# Step 4: Display results\n",
    "for i, pred in enumerate(predictions):\n",
    "    print(f\"Sample {i+1} → Predicted Status: {pred}\")\n"
   ]
  },
  {
   "cell_type": "code",
   "execution_count": 3,
   "metadata": {},
   "outputs": [
    {
     "name": "stdout",
     "output_type": "stream",
     "text": [
      "Confusion Matrix:\n",
      "[[135   1   0]\n",
      " [  0  40   0]\n",
      " [  0   0  24]]\n",
      "\n",
      "Classification Report:\n",
      "              precision    recall  f1-score   support\n",
      "\n",
      "           0       1.00      0.99      1.00       136\n",
      "           1       0.98      1.00      0.99        40\n",
      "           2       1.00      1.00      1.00        24\n",
      "\n",
      "    accuracy                           0.99       200\n",
      "   macro avg       0.99      1.00      0.99       200\n",
      "weighted avg       1.00      0.99      1.00       200\n",
      "\n"
     ]
    }
   ],
   "source": [
    "import pandas as pd\n",
    "from sklearn.model_selection import train_test_split\n",
    "from sklearn.ensemble import RandomForestClassifier\n",
    "from sklearn.preprocessing import StandardScaler\n",
    "from sklearn.metrics import classification_report, confusion_matrix\n",
    "\n",
    "# Load the dataset\n",
    "df = pd.read_csv(\"cnc_machine_data.csv\")\n",
    "\n",
    "# Separate features and target\n",
    "X = df.drop(\"Status\", axis=1)\n",
    "y = df[\"Status\"]\n",
    "\n",
    "# Split into training and testing sets\n",
    "X_train, X_test, y_train, y_test = train_test_split(\n",
    "    X, y, test_size=0.2, random_state=42\n",
    ")\n",
    "\n",
    "# Scale the features\n",
    "scaler = StandardScaler()\n",
    "X_train_scaled = scaler.fit_transform(X_train)\n",
    "X_test_scaled = scaler.transform(X_test)\n",
    "\n",
    "# Train Random Forest classifier\n",
    "rf_model = RandomForestClassifier(random_state=42)\n",
    "rf_model.fit(X_train_scaled, y_train)\n",
    "\n",
    "# Make predictions\n",
    "y_pred = rf_model.predict(X_test_scaled)\n",
    "\n",
    "# Evaluate the model\n",
    "print(\"Confusion Matrix:\")\n",
    "print(confusion_matrix(y_test, y_pred))\n",
    "print(\"\\nClassification Report:\")\n",
    "print(classification_report(y_test, y_pred))\n"
   ]
  },
  {
   "cell_type": "code",
   "execution_count": 5,
   "metadata": {},
   "outputs": [
    {
     "data": {
      "text/plain": [
       "['scaler.pkl']"
      ]
     },
     "execution_count": 5,
     "metadata": {},
     "output_type": "execute_result"
    }
   ],
   "source": [
    "import joblib\n",
    "\n",
    "# Save the trained model\n",
    "joblib.dump(rf_model, \"cnc.pkl\")\n",
    "\n",
    "# Save the scaler too (important for preprocessing test data later)\n",
    "joblib.dump(scaler, \"scaler.pkl\")\n"
   ]
  },
  {
   "cell_type": "code",
   "execution_count": 7,
   "metadata": {},
   "outputs": [
    {
     "name": "stdout",
     "output_type": "stream",
     "text": [
      "Predicted Machine Status: Healthy\n"
     ]
    },
    {
     "name": "stderr",
     "output_type": "stream",
     "text": [
      "c:\\Users\\saiki\\AppData\\Local\\Programs\\Python\\Python313\\Lib\\site-packages\\sklearn\\utils\\validation.py:2739: UserWarning: X does not have valid feature names, but StandardScaler was fitted with feature names\n",
      "  warnings.warn(\n"
     ]
    }
   ],
   "source": [
    "import joblib\n",
    "import numpy as np\n",
    "\n",
    "# Load model and scaler\n",
    "rf_model = joblib.load(\"cnc.pkl\")\n",
    "scaler = joblib.load(\"scaler.pkl\")\n",
    "\n",
    "# Map numeric predictions to labels\n",
    "status_labels = {0: \"Healthy\", 1: \"Maintenance\", 2: \"Fault\"}\n",
    "\n",
    "# Example input: [RPM, Feed_Rate, Vibration, Temperature, Torque]\n",
    "sample_data = np.array([[2200, 0.2, 1.0, 45.0, 22.0]])\n",
    "\n",
    "# Scale the input data\n",
    "sample_scaled = scaler.transform(sample_data)\n",
    "\n",
    "# Predict\n",
    "prediction = rf_model.predict(sample_scaled)\n",
    "\n",
    "# Get readable result\n",
    "predicted_status = status_labels[prediction[0]]\n",
    "\n",
    "print(\"Predicted Machine Status:\", predicted_status)\n"
   ]
  },
  {
   "cell_type": "code",
   "execution_count": 8,
   "metadata": {},
   "outputs": [
    {
     "name": "stdout",
     "output_type": "stream",
     "text": [
      "Predicted Machine Status: Maintenance\n"
     ]
    },
    {
     "name": "stderr",
     "output_type": "stream",
     "text": [
      "c:\\Users\\saiki\\AppData\\Local\\Programs\\Python\\Python313\\Lib\\site-packages\\sklearn\\utils\\validation.py:2739: UserWarning: X does not have valid feature names, but StandardScaler was fitted with feature names\n",
      "  warnings.warn(\n"
     ]
    }
   ],
   "source": [
    "import joblib\n",
    "import numpy as np\n",
    "\n",
    "# Load model and scaler\n",
    "rf_model = joblib.load(\"cnc.pkl\")\n",
    "scaler = joblib.load(\"scaler.pkl\")\n",
    "\n",
    "# Map numeric predictions to labels\n",
    "status_labels = {0: \"Healthy\", 1: \"Maintenance\", 2: \"Fault\"}\n",
    "\n",
    "# Example input: [RPM, Feed_Rate, Vibration, Temperature, Torque]\n",
    "sample_data = np.array([[893.94,0.338,2.1,57.91,49.17]])\n",
    "\n",
    "# Scale the input data\n",
    "sample_scaled = scaler.transform(sample_data)\n",
    "\n",
    "# Predict\n",
    "prediction = rf_model.predict(sample_scaled)\n",
    "\n",
    "# Get readable result\n",
    "predicted_status = status_labels[prediction[0]]\n",
    "\n",
    "print(\"Predicted Machine Status:\", predicted_status)\n"
   ]
  },
  {
   "cell_type": "code",
   "execution_count": 9,
   "metadata": {},
   "outputs": [
    {
     "name": "stdout",
     "output_type": "stream",
     "text": [
      "Predicted Machine Status: Fault\n"
     ]
    },
    {
     "name": "stderr",
     "output_type": "stream",
     "text": [
      "c:\\Users\\saiki\\AppData\\Local\\Programs\\Python\\Python313\\Lib\\site-packages\\sklearn\\utils\\validation.py:2739: UserWarning: X does not have valid feature names, but StandardScaler was fitted with feature names\n",
      "  warnings.warn(\n"
     ]
    }
   ],
   "source": [
    "import joblib\n",
    "import numpy as np\n",
    "\n",
    "# Load model and scaler\n",
    "rf_model = joblib.load(\"cnc.pkl\")\n",
    "scaler = joblib.load(\"scaler.pkl\")\n",
    "\n",
    "# Map numeric predictions to labels\n",
    "status_labels = {0: \"Healthy\", 1: \"Maintenance\", 2: \"Fault\"}\n",
    "\n",
    "# Example input: [RPM, Feed_Rate, Vibration, Temperature, Torque]\n",
    "sample_data = np.array([[5275.22,0.42,2.908,85.49,6.94]])\n",
    "\n",
    "# Scale the input data\n",
    "sample_scaled = scaler.transform(sample_data)\n",
    "\n",
    "# Predict\n",
    "prediction = rf_model.predict(sample_scaled)\n",
    "\n",
    "# Get readable result\n",
    "predicted_status = status_labels[prediction[0]]\n",
    "\n",
    "print(\"Predicted Machine Status:\", predicted_status)\n"
   ]
  }
 ],
 "metadata": {
  "kernelspec": {
   "display_name": "Python 3",
   "language": "python",
   "name": "python3"
  },
  "language_info": {
   "codemirror_mode": {
    "name": "ipython",
    "version": 3
   },
   "file_extension": ".py",
   "mimetype": "text/x-python",
   "name": "python",
   "nbconvert_exporter": "python",
   "pygments_lexer": "ipython3",
   "version": "3.13.1"
  }
 },
 "nbformat": 4,
 "nbformat_minor": 2
}
